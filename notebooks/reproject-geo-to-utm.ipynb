{
 "cells": [
  {
   "cell_type": "markdown",
   "metadata": {},
   "source": [
    "# Reprojection of WorldCover, Global Islands, and buffered GSHHG Continental Shoreline masks to Sentinel-2 granules\n",
    "\n",
    "This notebook uses 3 global 10m zarr files for the three masks, partially generated \n",
    "by rasterisation of shapre files. \n",
    "It also uses dummy masks of all possible granules to define the target grid subsets.\n",
    "The input data is provided in an S3 bucket on Creodias.\n",
    "Credentials are to be provided in an .env file.\n",
    "\n",
    "The output is a combined mask with 8 possible values for all combinations of land and water. The output is the input of a buffering step (next notebook) to generate the Sen2Water masks."
   ]
  },
  {
   "cell_type": "code",
   "execution_count": null,
   "metadata": {},
   "outputs": [],
   "source": [
    "import rioxarray as rio\n",
    "import xarray as xr\n",
    "import numpy as np\n",
    "import scipy\n",
    "from pyproj import CRS, Transformer\n",
    "from pyproj.enums import TransformDirection\n",
    "import math\n",
    "import os\n",
    "import sys\n",
    "import s3fs\n",
    "from dotenv import load_dotenv\n",
    "print(\"software imported\")"
   ]
  },
  {
   "cell_type": "code",
   "execution_count": null,
   "metadata": {},
   "outputs": [],
   "source": [
    "granule = \"32UME\"\n",
    "worldcover_path = \"s3://sen2water-dev/worldcoverlandmask.zarr\"\n",
    "globalislands_path = \"s3://sen2water-dev/globalislandsinlandmask.zarr\"\n",
    "continentalshoreline_path = \"s3://sen2water-dev/continentalshorelinemask.zarr\"\n",
    "zeromask_path = f\"s3://sen2water-dev/dummy-masks/{granule}-zeros.tif\"\n",
    "combined_mask_path = f\"combined_mask-{granule}.tif\"\n",
    "\n",
    "load_dotenv()\n",
    "\n",
    "endpoint_url = os.getenv(\"endpoint_url\")\n",
    "key = os.getenv(\"key\")\n",
    "secret = os.getenv(\"secret\")\n",
    "storage_options = {\"endpoint_url\": endpoint_url, \"key\": key, \"secret\": secret}\n",
    "\n",
    "fs = s3fs.S3FileSystem(endpoint_url=endpoint_url, key=key, secret=secret)\n",
    "print(fs.endpoint_url)"
   ]
  },
  {
   "cell_type": "markdown",
   "metadata": {},
   "source": [
    "### Determine bounding box of granule in geographic worldcover grid ...\n",
    "\n",
    "    hr = target dummy mask in granule's UTM (metric) projection\n",
    "    wc = WorldCover land mask global zarr in 10m in geographic projection\n",
    "    gi = Global Islands land mask global zarr rastered into same grid as wc\n",
    "    cs = Continental Shoreline land mask global zarr rastered into same grid as wc"
   ]
  },
  {
   "cell_type": "code",
   "execution_count": null,
   "metadata": {},
   "outputs": [],
   "source": [
    "# Use target dummy mask as representative for the target UTM grid\n",
    "\n",
    "#hr = rio.open_rasterio(zeromask_path)  ## for local file system\n",
    "with fs.open(zeromask_path) as f:\n",
    "    hr = rio.open_rasterio(f)\n",
    "\n",
    "hr_width = len(hr.x)\n",
    "hr_height = len(hr.y)\n",
    "hr_size = hr_height * hr_width\n",
    "hr_step = 60.0\n",
    "hr_left = hr.x.data[0]\n",
    "hr_top = hr.y.data[0]\n",
    "\n",
    "hr.plot()\n",
    "print(\"dummy target granule with UTM (metric) coordinates\")"
   ]
  },
  {
   "cell_type": "code",
   "execution_count": null,
   "metadata": {},
   "outputs": [],
   "source": [
    "# Use WorldCover as representative for the source grid\n",
    "\n",
    "wc = xr.open_dataset(\n",
    "    worldcover_path, engine='zarr', mask_and_scale=False, storage_options=storage_options\n",
    ")\n",
    "\n",
    "# create transformation WGS84 -> UTM\n",
    "hr_crs = CRS.from_cf(hr.spatial_ref.attrs)\n",
    "wc_crs = CRS.from_cf(wc.spatial_ref.attrs)\n",
    "wgs_to_utm = Transformer.from_crs(wc_crs, hr_crs)\n",
    "\n",
    "# map border of granule to geographic grid\n",
    "half_a_pixel = hr_step / 2\n",
    "# extract image border (top, bottom, left, right) for transformation\n",
    "hr_y = hr.y.values\n",
    "hr_x = hr.x.values\n",
    "hr_y_border = np.stack((np.tile(hr_y[0] + half_a_pixel, (hr_width)),\n",
    "                        np.tile(hr_y[-1] - half_a_pixel, (hr_width)),\n",
    "                        hr_y,\n",
    "                        hr_y))\n",
    "hr_x_border = np.stack((hr_x,\n",
    "                        hr_x,\n",
    "                        np.tile(hr_x[0] - half_a_pixel, (hr_width)),\n",
    "                        np.tile(hr_x[-1] + half_a_pixel, (hr_width))))\n",
    "# move four pixels of border into image corners\n",
    "hr_x_border[0,0] -= half_a_pixel\n",
    "hr_x_border[0,-1] += half_a_pixel\n",
    "hr_x_border[1,0] -= half_a_pixel\n",
    "hr_x_border[1,-1] += half_a_pixel\n",
    "\n",
    "# transform border from UTM to WGS84 geographic coordinates\n",
    "hr_lat,hr_lon = wgs_to_utm.transform(hr_x_border.flatten(), hr_y_border.flatten(), direction=TransformDirection.INVERSE)\n",
    "\n",
    "# determine bounding box in geographic grid\n",
    "hr_lat_min = np.min(hr_lat)\n",
    "hr_lat_max = np.max(hr_lat)\n",
    "# turn lon by first lon as reference to determine minmax lon of border\n",
    "hr_lon_ref = hr_lon[0]\n",
    "hr_lon_min = (np.min((hr_lon - hr_lon_ref + 180.0) % 360.0 - 180.0) + hr_lon_ref + 180.0) % 360.0 - 180.0\n",
    "hr_lon_max = (np.max((hr_lon - hr_lon_ref + 180.0) % 360.0 - 180.0) + hr_lon_ref + 180.0) % 360.0 - 180.0\n",
    "\n",
    "# determine minmax pixel coordinates of worldcover subset\n",
    "wc_j_min = int(math.floor((90.0 - hr_lat_max) / 180.0 * wc.y.shape[0]))\n",
    "wc_j_max = int(math.ceil((90.0 - hr_lat_min) / 180.0 * wc.y.shape[0]))\n",
    "wc_i_min = int(math.floor((hr_lon_min + 180.0) / 360.0 * wc.x.shape[0]))\n",
    "wc_i_max = int(math.ceil((hr_lon_max + 180.0) / 360.0 * wc.x.shape[0]))\n",
    "# subsampling factor for geographic grid's longitude depending on latitude\n",
    "i_step = int(1.0 / math.cos((hr_lat_min + hr_lat_max) / 2 * math.pi / 180.0))\n",
    "\n",
    "print(f\"extent {wc_j_min=} {wc_i_min=} {wc_j_max-wc_j_min=} {wc_i_max-wc_i_min=}\")\n",
    "print(f\"latitude subsampling factor for geographic grids: {i_step}\")\n",
    "if wc_i_min > wc_i_max: print('crossing antimeridian')\n",
    "\n",
    "# create subset of worldcover land mask\n",
    "if wc_i_min <= wc_i_max:\n",
    "    wc_subset = wc.landmask[wc_j_min:wc_j_max, wc_i_min:wc_i_max:i_step]\n",
    "else:\n",
    "    wc_subset = xr.concat((wc.landmask[wc_j_min:wc_j_max, wc_i_min:], wc.landmask[wc_j_min:wc_j_max, :wc_i_max]), dim='x')\n",
    "    wc_subset = wc_subset[:,::i_step]\n",
    "\n",
    "del hr_y, hr_x, hr_y_border, hr_x_border, hr_lat, hr_lon\n",
    "print(f\"\\n{wc_subset=}\")\n",
    "print(\"WorldCover subset covering granule determined\")"
   ]
  },
  {
   "cell_type": "code",
   "execution_count": null,
   "metadata": {},
   "outputs": [],
   "source": [
    "print(\"plotting takes longer than ...\")\n",
    "wc_subset.plot(figsize=(7,3))\n",
    "print(\"WorldCover 10m land mask subset covering granule in geographic projection\")"
   ]
  },
  {
   "cell_type": "markdown",
   "metadata": {},
   "source": [
    "### Determine mapping from geographic to UTM grid ..."
   ]
  },
  {
   "cell_type": "code",
   "execution_count": null,
   "metadata": {},
   "outputs": [],
   "source": [
    "# transform land mask coordinates from WGS84 to UTM\n",
    "wc_lat = np.tile(wc_subset.y.values, (len(wc_subset.x), 1)).T\n",
    "wc_lon = np.tile(wc_subset.x.values, (len(wc_subset.y), 1))\n",
    "wc_x, wc_y = wgs_to_utm.transform(wc_lat, wc_lon, direction=TransformDirection.FORWARD)\n",
    "# determine pixel coordinates in HR-OC UTM grid for landmask subset\n",
    "# label pixels outside of HR-OC mask granule\n",
    "wc_j = ((hr_top - wc_y + hr_step / 2) / hr_step).astype(np.int32)\n",
    "wc_i = ((wc_x - hr_left + hr_step / 2) / hr_step).astype(np.int32)\n",
    "\n",
    "# map the landmask to the UTM grid\n",
    "# bin_indices is the flattened wc coordinates mapped to hr grid bin indices\n",
    "# landmask_values is the corresponding flattened wc values, 0 or 1\n",
    "is_inside_granule = ((wc_j >= 0) & (wc_j < hr_height) & (wc_i >= 0) & (wc_i < hr_width)).astype(bool)\n",
    "inside_outside_bin_indices = wc_j * hr_width + wc_i\n",
    "bin_indices = inside_outside_bin_indices[is_inside_granule]\n",
    "all_bin_counts = np.bincount(bin_indices, minlength=hr_size)\n",
    "\n",
    "da = xr.DataArray(is_inside_granule, dims=wc_subset.dims, coords=wc_subset.coords, attrs=wc_subset.attrs)\n",
    "da.plot(figsize=(7,3))\n",
    "\n",
    "del wc_lat, wc_lon, wc_j, wc_i, inside_outside_bin_indices, wc, da\n",
    "\n",
    "print(f\"{bin_indices=}\")\n",
    "print(f\"{all_bin_counts=}\")\n",
    "print(\"area of wc to be binned into target grid\")"
   ]
  },
  {
   "cell_type": "code",
   "execution_count": null,
   "metadata": {},
   "outputs": [],
   "source": [
    "### Reproject WorldCover, Global Islands, and GSHHG Continental Shoreline land masks to UTM grid"
   ]
  },
  {
   "cell_type": "code",
   "execution_count": null,
   "metadata": {},
   "outputs": [],
   "source": [
    "wc_values = wc_subset.data[is_inside_granule]\n",
    "wc_bin_counts = np.bincount(bin_indices[wc_values!=0], minlength=hr_size)\n",
    "wc_bin_mask = 2 * wc_bin_counts >= all_bin_counts  # majority\n",
    "wc_landmask = wc_bin_mask.reshape(hr_height, hr_width).astype(np.uint8)\n",
    "\n",
    "da = xr.DataArray(wc_landmask.reshape((1, *wc_landmask.shape)), dims=hr.dims, coords=hr.coords, attrs=hr.attrs)\n",
    "da.plot()\n",
    "del wc_values, wc_bin_counts, wc_bin_mask, da\n",
    "print(\"WorldCover land mask projected to target granule\")"
   ]
  },
  {
   "cell_type": "code",
   "execution_count": null,
   "metadata": {},
   "outputs": [],
   "source": [
    "gi = xr.open_dataset(\n",
    "    globalislands_path, engine='zarr', mask_and_scale=False, storage_options=storage_options\n",
    ")\n",
    "if wc_i_min <= wc_i_max:\n",
    "    gi_subset = gi.inlandmask[wc_j_min:wc_j_max, wc_i_min:wc_i_max:i_step]\n",
    "else:\n",
    "    gi_subset = xr.concat((gi.inlandmask[wc_j_min:wc_j_max, wc_i_min:], gi.inlandmask[wc_j_min:wc_j_max, :wc_i_max]), dim='x')\n",
    "    gi_subset = gi_subset[:,::i_step]\n",
    "gi_values = gi_subset.data[is_inside_granule]\n",
    "gi_bin_counts = np.bincount(bin_indices[gi_values!=0], minlength=hr_size)\n",
    "gi_bin_mask = 2 * gi_bin_counts >= all_bin_counts\n",
    "gi_landmask = gi_bin_mask.reshape(hr_height, hr_width).astype(np.uint8)\n",
    "\n",
    "da = xr.DataArray(gi_landmask.reshape((1, *gi_landmask.shape)), dims=hr.dims, coords=hr.coords, attrs=hr.attrs)\n",
    "da.plot()\n",
    "del gi_values, gi_bin_counts, gi_bin_mask, gi_subset, gi\n",
    "print(\"Global Islands land mask projected to target granule\")"
   ]
  },
  {
   "cell_type": "code",
   "execution_count": null,
   "metadata": {},
   "outputs": [],
   "source": [
    "cs = xr.open_dataset(\n",
    "    continentalshoreline_path, engine='zarr', mask_and_scale=False, storage_options=storage_options\n",
    ")\n",
    "if wc_i_min <= wc_i_max:\n",
    "    cs_subset = cs.continentalmask[wc_j_min:wc_j_max, wc_i_min:wc_i_max:i_step]\n",
    "else:\n",
    "    cs_subset = xr.concat((cs.continentalmask[wc_j_min:wc_j_max, wc_i_min:], cs.continentalmask[wc_j_min:wc_j_max, :wc_i_max]), dim='x')\n",
    "    cs_subset = cs_subset[:,::i_step]\n",
    "cs_values = cs_subset.data[is_inside_granule]\n",
    "cs_bin_counts = np.bincount(bin_indices[cs_values!=0], minlength=hr_size)\n",
    "cs_bin_mask = 2 * cs_bin_counts >= all_bin_counts\n",
    "cs_landmask = cs_bin_mask.reshape(hr_height, hr_width).astype(np.uint8)\n",
    "\n",
    "da = xr.DataArray(cs_landmask.reshape((1, *cs_landmask.shape)), dims=hr.dims, coords=hr.coords, attrs=hr.attrs)\n",
    "da.plot()\n",
    "del cs_values, cs_bin_counts, cs_bin_mask, cs_subset, cs, is_inside_granule, all_bin_counts, bin_indices\n",
    "print(\"Continental Shoreline GSHHG land mask projected to target granule\")"
   ]
  },
  {
   "cell_type": "code",
   "execution_count": null,
   "metadata": {},
   "outputs": [],
   "source": [
    "mask = wc_landmask + 2 * gi_landmask + 4 * cs_landmask\n",
    "combinedmask_da = xr.DataArray(mask.reshape((1, hr_height, hr_width)), coords=hr.coords, dims=hr.dims, attrs=hr.attrs)\n",
    "combinedmask_da.rio.to_raster(combined_mask_path, compress='LZW', tiled=True)\n",
    "print(f\"combined land mask stored in {combined_mask_path}\")\n",
    "combinedmask_da.plot(figsize=(12,9))"
   ]
  },
  {
   "cell_type": "markdown",
   "metadata": {},
   "source": [
    "* 0 = ocean\n",
    "* 1 = land in worldcover, missed islands in less accurate global islands\n",
    "* 2 = inland water near coast\n",
    "* 4 = inland river water\n",
    "* 6 = inland water \n",
    "* 3 = coastal land, not in buffered continental shoreline\n",
    "* 5 = inaccurate match of global islands and continental shoreline, should be 7\n",
    "* 7 = all land"
   ]
  },
  {
   "cell_type": "markdown",
   "metadata": {},
   "source": [
    "### done"
   ]
  }
 ],
 "metadata": {
  "kernelspec": {
   "display_name": "s2w",
   "language": "python",
   "name": "s2w"
  },
  "language_info": {
   "codemirror_mode": {
    "name": "ipython",
    "version": 3
   },
   "file_extension": ".py",
   "mimetype": "text/x-python",
   "name": "python",
   "nbconvert_exporter": "python",
   "pygments_lexer": "ipython3",
   "version": "3.11.7"
  }
 },
 "nbformat": 4,
 "nbformat_minor": 4
}
