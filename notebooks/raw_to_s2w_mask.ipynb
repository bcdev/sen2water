{
 "cells": [
  {
   "cell_type": "markdown",
   "metadata": {},
   "source": [
    "# Converting the raw ocean-inlandwater-land mask into the Sen2Water mask\n",
    "\n",
    "This notebook converts the raw mask produced from WorldCover, Global Islands, and GRHHS Continental Coastlines into the final Sen2Water mask. It decides between the three mask using spatial criteria to resolve inconsistencies with the goal of a consistent discrimination of ocean and inland water. The technique is selected buffering.\n",
    "\n",
    "The final mask encodes distance to the ocean border in the transition area in estuaries. This allows to switch smoothly between two algorithms based on spatial criteria if this is desired. If not, then the distance does not need to be used.\n",
    "\n",
    "The output is a mask with four main values OCEAN (64), INLANDWATER (92), COASTAL (160), and LAND (192). Pixel distance to ocean in inland water is encoded as values between 65 and 91. Distance to ocean in coastal land at estuaries is encoded as values between 161 and 191. This can be used for switching for pixels dynamically detected as water."
   ]
  },
  {
   "cell_type": "code",
   "execution_count": null,
   "metadata": {},
   "outputs": [],
   "source": [
    "import rioxarray as rio\n",
    "import xarray as xr\n",
    "import numpy as np\n",
    "import scipy\n",
    "import math\n",
    "print(\"software imported\")"
   ]
  },
  {
   "cell_type": "code",
   "execution_count": null,
   "metadata": {},
   "outputs": [],
   "source": [
    "combined_mask_path = \"combined_mask-32UME.tif\"\n",
    "s2w_mask_path = \"s2w-globalmask-32UME.tif\"\n",
    "countslist_path = \"globalmaskcounts.list\""
   ]
  },
  {
   "cell_type": "code",
   "execution_count": null,
   "metadata": {},
   "outputs": [],
   "source": [
    "# define legend of the target mask (and intermediate layers)\n",
    "INVALID = 0\n",
    "OCEAN = 64\n",
    "INLANDWATER = 96\n",
    "BOTTOMREFLECTION = 128\n",
    "COASTAL = 160\n",
    "LAND = 192\n",
    "\n",
    "RIVERWATER=3\n",
    "SHORE_TRANSITION = 2\n",
    "SHORE_INLANDWATER = 1\n",
    "print(\"legend defined\")"
   ]
  },
  {
   "cell_type": "code",
   "execution_count": null,
   "metadata": {},
   "outputs": [],
   "source": [
    "hr = rio.open_rasterio(combined_mask_path)\n",
    "hr_width = len(hr.x)\n",
    "hr_height = len(hr.y)\n",
    "hr_size = hr_height * hr_width\n",
    "hr_step = 60.0\n",
    "hr_left = hr.x.data[0]\n",
    "hr_top = hr.y.data[0]\n",
    "raw_mask = hr.data[0]"
   ]
  },
  {
   "cell_type": "code",
   "execution_count": null,
   "metadata": {},
   "outputs": [],
   "source": [
    "mask = np.zeros(raw_mask.shape, dtype=np.uint8)\n",
    "mask[(raw_mask & 1) != 0] = LAND\n",
    "mask[(mask == 0) & ((raw_mask & 2) != 0)] = INLANDWATER\n",
    "mask[(mask == 0) & ((raw_mask & 4) == 0)] = OCEAN\n",
    "mask[(mask==0)] = RIVERWATER\n",
    "\n",
    "da = xr.DataArray(mask.reshape((1, *mask.shape)), dims=hr.dims, coords=hr.coords, attrs=hr.attrs)\n",
    "da.plot()"
   ]
  },
  {
   "cell_type": "markdown",
   "metadata": {},
   "source": [
    "* RIVERWATER = 1  (temporary value)\n",
    "* OCEAN = 64\n",
    "* INLANDWATER = 96\n",
    "* LAND = 192"
   ]
  },
  {
   "cell_type": "code",
   "execution_count": null,
   "metadata": {},
   "outputs": [],
   "source": [
    "FOUR_NEIGHBOURS=np.array([[0,1,0],[1,1,1],[0,1,0]], dtype=np.int8)\n",
    "EIGHT_NEIGHBOURS=np.array([[1,1,1],[1,1,1],[1,1,1]], dtype=np.int8)\n",
    "\n",
    "# replace neighbours of value source that are value dest by value insert\n",
    "def dilate(mask, source_value, neighbours, steps, dest_value, insert_value):\n",
    "    source_mask = (mask == source_value) | (mask == insert_value)\n",
    "    dest_mask = mask == dest_value\n",
    "    dilated = scipy.ndimage.binary_dilation(source_mask, neighbours, steps, dest_mask)\n",
    "    mask[dest_mask & dilated] = insert_value\n",
    "    del source_mask, dest_mask, dilated\n",
    "\n",
    "# replace neighbours of value source that are value dest by value insert\n",
    "def dilate_range(mask, source_value1, source_value9, neighbours, steps, dest_value, insert_value):\n",
    "    source_mask = (mask>=source_value1) & (mask<=source_value9)\n",
    "    dest_mask = mask == dest_value\n",
    "    dilated = scipy.ndimage.binary_dilation(source_mask, neighbours, steps, dest_mask)\n",
    "    mask[dest_mask & dilated] = insert_value\n",
    "    del source_mask, dest_mask, dilated"
   ]
  },
  {
   "cell_type": "code",
   "execution_count": null,
   "metadata": {},
   "outputs": [],
   "source": [
    "print(\"buffering ocean into 'rivers' and back to preserve ocean accidentally included in continental shoreline ...\")\n",
    "\n",
    "depth = 24  # 32\n",
    "for i in range(depth):\n",
    "    dilate(mask, OCEAN, FOUR_NEIGHBOURS, 1, RIVERWATER, OCEAN)\n",
    "\n",
    "# ... and by reverting in river mouths\n",
    "for i in range(depth):\n",
    "    dilate(mask, RIVERWATER, FOUR_NEIGHBOURS, 1, OCEAN, RIVERWATER)\n",
    "\n",
    "mask[mask==RIVERWATER] = INLANDWATER\n",
    "\n",
    "print(\"almost no effect in this granule\")"
   ]
  },
  {
   "cell_type": "code",
   "execution_count": null,
   "metadata": {},
   "outputs": [],
   "source": [
    "da = xr.DataArray(mask.reshape((1, *mask.shape)), dims=hr.dims, coords=hr.coords, attrs=hr.attrs)\n",
    "da[:,405:710,1525:].plot()\n",
    "print(\"before ...\")"
   ]
  },
  {
   "cell_type": "code",
   "execution_count": null,
   "metadata": {},
   "outputs": [],
   "source": [
    "print(\"buffering ocean into inlandwater and back to extend ocean up to worldcover coastline ...\")\n",
    "\n",
    "# buffer ocean into inlandwater by n pixels\n",
    "# buffer inlandwater back into ocean in estuaries\n",
    "depth = 48  # 24\n",
    "for i in range(depth):\n",
    "    dilate(mask, OCEAN, FOUR_NEIGHBOURS, 1, INLANDWATER, OCEAN)\n",
    "\n",
    "# ... and by reverting in river mouths\n",
    "for i in range(depth):\n",
    "    dilate(mask, INLANDWATER, FOUR_NEIGHBOURS, 1, OCEAN, INLANDWATER)\n",
    "\n",
    "da = xr.DataArray(mask.reshape((1, *mask.shape)), dims=hr.dims, coords=hr.coords, attrs=hr.attrs)\n",
    "da[:,405:710,1525:].plot()"
   ]
  },
  {
   "cell_type": "code",
   "execution_count": null,
   "metadata": {},
   "outputs": [],
   "source": [
    "print(\"buffering ocean into land to mark coastal land ...\")\n",
    "\n",
    "depth = 28\n",
    "for i in range(depth):\n",
    "    dilate(mask, OCEAN, EIGHT_NEIGHBOURS, 1, LAND, COASTAL)\n",
    "\n",
    "da = xr.DataArray(mask.reshape((1, *mask.shape)), dims=hr.dims, coords=hr.coords, attrs=hr.attrs)\n",
    "da[:,405:710,1525:].plot()"
   ]
  },
  {
   "cell_type": "code",
   "execution_count": null,
   "metadata": {},
   "outputs": [],
   "source": [
    "da = xr.DataArray(mask.reshape((1, *mask.shape)), dims=hr.dims, coords=hr.coords, attrs=hr.attrs)\n",
    "da[:,1455:1555,1055:1155].plot()\n",
    "print(\"before ...\")"
   ]
  },
  {
   "cell_type": "code",
   "execution_count": null,
   "metadata": {},
   "outputs": [],
   "source": [
    "print(\"mask transition zone from ocean to inland water ...\")\n",
    "\n",
    "# values 64 < v < 96 are the transition zone from ocean to inland water\n",
    "# incremental values 7+distance from ocean up to 32 pixels\n",
    "# 4 neighbours for the first two steps to avoid jumps over locks\n",
    "depth = 32\n",
    "for i in range(depth):\n",
    "    dilate(mask, OCEAN+i, FOUR_NEIGHBOURS if i<2 else EIGHT_NEIGHBOURS, 1, INLANDWATER, OCEAN+i+1)\n",
    "\n",
    "shore_width = 4\n",
    "transition_depth = 32\n",
    "for i in range(shore_width):\n",
    "    if i == 0:\n",
    "        dilate_range(mask, OCEAN+1, INLANDWATER-1, EIGHT_NEIGHBOURS, 1, COASTAL, SHORE_TRANSITION)\n",
    "    else:\n",
    "        dilate(mask, SHORE_TRANSITION, EIGHT_NEIGHBOURS, 1, COASTAL, SHORE_TRANSITION)\n",
    "    dilate(mask, INLANDWATER, EIGHT_NEIGHBOURS, 1, COASTAL, SHORE_INLANDWATER)\n",
    "\n",
    "# count distance from ocean in shore of transition zone\n",
    "for i in range(transition_depth):\n",
    "    dilate(mask, OCEAN if i == 0 else COASTAL+i, EIGHT_NEIGHBOURS, 1, SHORE_TRANSITION, COASTAL+i+1)\n",
    "\n",
    "# revert inland water shore and unreached transition zone shore\n",
    "mask[(mask==SHORE_INLANDWATER)|(mask==SHORE_TRANSITION)] = COASTAL\n",
    "\n",
    "da = xr.DataArray(mask.reshape((1, *mask.shape)), dims=hr.dims, coords=hr.coords, attrs=hr.attrs)\n",
    "da[:,1455:1555,1055:1155].plot()"
   ]
  },
  {
   "cell_type": "code",
   "execution_count": null,
   "metadata": {},
   "outputs": [],
   "source": [
    "print(\"write s2w mask ...\")\n",
    "\n",
    "# write result to s2w mask\n",
    "s2w = xr.DataArray(mask.reshape((1, hr_height, hr_width)), coords=hr.coords, dims=hr.dims, attrs=hr.attrs)\n",
    "s2w.rio.to_raster(s2w_mask_path, compress='LZW', tiled=True)\n",
    "\n",
    "print(\"counting pixel classes ...\")\n",
    "\n",
    "land_count = np.count_nonzero(mask>=128)\n",
    "inlandwater_count = np.count_nonzero((mask<128) & (mask > 64))\n",
    "ocean_count = np.count_nonzero(mask<=64)\n",
    "with open(countslist_path, \"a\") as f:\n",
    "    f.write(f\"{s2w_mask_path}\\t{ocean_count}\\t{inlandwater_count}\\t{land_count}\\n\")\n",
    "\n",
    "print(f\"\\n{land_count=}\")\n",
    "print(f\"{inlandwater_count=}\")\n",
    "print(f\"{ocean_count=}\\n\")\n",
    "\n",
    "print(s2w_mask_path)\n",
    "\n",
    "da = xr.DataArray(mask.reshape((1, *mask.shape)), dims=hr.dims, coords=hr.coords, attrs=hr.attrs)\n",
    "da.plot()"
   ]
  },
  {
   "cell_type": "markdown",
   "metadata": {},
   "source": [
    "### done"
   ]
  }
 ],
 "metadata": {
  "kernelspec": {
   "display_name": "s2w",
   "language": "python",
   "name": "s2w"
  },
  "language_info": {
   "codemirror_mode": {
    "name": "ipython",
    "version": 3
   },
   "file_extension": ".py",
   "mimetype": "text/x-python",
   "name": "python",
   "nbconvert_exporter": "python",
   "pygments_lexer": "ipython3",
   "version": "3.11.7"
  }
 },
 "nbformat": 4,
 "nbformat_minor": 4
}
